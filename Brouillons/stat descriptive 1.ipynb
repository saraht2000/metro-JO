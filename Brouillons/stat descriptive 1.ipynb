{
 "cells": [
  {
   "cell_type": "code",
   "execution_count": 1,
   "metadata": {},
   "outputs": [],
   "source": [
    "import io"
   ]
  },
  {
   "cell_type": "code",
   "execution_count": 2,
   "metadata": {},
   "outputs": [
    {
     "data": {
      "text/plain": [
       "AttributeError('capture_output')"
      ]
     },
     "metadata": {},
     "output_type": "display_data"
    }
   ],
   "source": [
    "try:\n",
    "    with io.capture_output():\n",
    "        %run -i \"Calendrier.ipynb\"\n",
    "except Exception as e:\n",
    "    display(e)"
   ]
  },
  {
   "cell_type": "code",
   "execution_count": 3,
   "metadata": {},
   "outputs": [
    {
     "ename": "NameError",
     "evalue": "name 'info_trafic' is not defined",
     "output_type": "error",
     "traceback": [
      "\u001b[0;31m---------------------------------------------------------------------------\u001b[0m",
      "\u001b[0;31mNameError\u001b[0m                                 Traceback (most recent call last)",
      "Cell \u001b[0;32mIn[3], line 24\u001b[0m\n\u001b[1;32m     21\u001b[0m station_info \u001b[38;5;241m=\u001b[39m \u001b[38;5;124m\"\u001b[39m\u001b[38;5;124mbastille\u001b[39m\u001b[38;5;124m\"\u001b[39m\n\u001b[1;32m     22\u001b[0m ligne_info \u001b[38;5;241m=\u001b[39m \u001b[38;5;124m\"\u001b[39m\u001b[38;5;124m1\u001b[39m\u001b[38;5;124m\"\u001b[39m\n\u001b[0;32m---> 24\u001b[0m total_affluence \u001b[38;5;241m=\u001b[39m \u001b[43maffluence_totale_jour\u001b[49m\u001b[43m(\u001b[49m\u001b[43mdate_info\u001b[49m\u001b[43m,\u001b[49m\u001b[43m \u001b[49m\u001b[43mstation_info\u001b[49m\u001b[43m,\u001b[49m\u001b[43m \u001b[49m\u001b[43mligne_info\u001b[49m\u001b[43m)\u001b[49m\n\u001b[1;32m     25\u001b[0m \u001b[38;5;28mprint\u001b[39m(\u001b[38;5;124mf\u001b[39m\u001b[38;5;124m\"\u001b[39m\u001b[38;5;124mAffluence totale à la station \u001b[39m\u001b[38;5;132;01m{\u001b[39;00mstation_info\u001b[38;5;132;01m}\u001b[39;00m\u001b[38;5;124m le \u001b[39m\u001b[38;5;132;01m{\u001b[39;00mdate_info\u001b[38;5;132;01m}\u001b[39;00m\u001b[38;5;124m: \u001b[39m\u001b[38;5;132;01m{\u001b[39;00mtotal_affluence\u001b[38;5;132;01m}\u001b[39;00m\u001b[38;5;124m personnes\u001b[39m\u001b[38;5;124m\"\u001b[39m)\n",
      "Cell \u001b[0;32mIn[3], line 11\u001b[0m, in \u001b[0;36maffluence_totale_jour\u001b[0;34m(date, station, ligne)\u001b[0m\n\u001b[1;32m      8\u001b[0m horaire_info \u001b[38;5;241m=\u001b[39m \u001b[38;5;124mf\u001b[39m\u001b[38;5;124m\"\u001b[39m\u001b[38;5;132;01m{\u001b[39;00mhour\u001b[38;5;132;01m:\u001b[39;00m\u001b[38;5;124m02d\u001b[39m\u001b[38;5;132;01m}\u001b[39;00m\u001b[38;5;124m:00\u001b[39m\u001b[38;5;124m\"\u001b[39m\n\u001b[1;32m     10\u001b[0m \u001b[38;5;66;03m# Utiliser la fonction info_trafic pour obtenir l'affluence à cette heure spécifique\u001b[39;00m\n\u001b[0;32m---> 11\u001b[0m result_station, _ \u001b[38;5;241m=\u001b[39m \u001b[43minfo_trafic\u001b[49m(date, horaire_info, station, ligne)\n\u001b[1;32m     13\u001b[0m \u001b[38;5;66;03m# Ajouter l'affluence à la somme totale\u001b[39;00m\n\u001b[1;32m     14\u001b[0m \u001b[38;5;28;01mif\u001b[39;00m result_station \u001b[38;5;129;01mis\u001b[39;00m \u001b[38;5;129;01mnot\u001b[39;00m \u001b[38;5;28;01mNone\u001b[39;00m:\n",
      "\u001b[0;31mNameError\u001b[0m: name 'info_trafic' is not defined"
     ]
    }
   ],
   "source": [
    "from datetime import datetime, timedelta\n",
    "\n",
    "def affluence_totale_jour(date, station, ligne):\n",
    "    total_affluence = 0\n",
    "\n",
    "    # Boucler sur chaque heure de la journée\n",
    "    for hour in range(24):\n",
    "        horaire_info = f\"{hour:02d}:00\"\n",
    "        \n",
    "        # Utiliser la fonction info_trafic pour obtenir l'affluence à cette heure spécifique\n",
    "        result_station, _ = info_trafic(date, horaire_info, station, ligne)\n",
    "        \n",
    "        # Ajouter l'affluence à la somme totale\n",
    "        if result_station is not None:\n",
    "            total_affluence += result_station\n",
    "\n",
    "    return total_affluence\n",
    "\n",
    "# Exemple d'utilisation\n",
    "date_info = \"2024-07-28\"\n",
    "station_info = \"bastille\"\n",
    "ligne_info = \"1\"\n",
    "\n",
    "total_affluence = affluence_totale_jour(date_info, station_info, ligne_info)\n",
    "print(f\"Affluence totale à la station {station_info} le {date_info}: {total_affluence} personnes\")\n"
   ]
  }
 ],
 "metadata": {
  "kernelspec": {
   "display_name": "Python 3 (ipykernel)",
   "language": "python",
   "name": "python3"
  },
  "language_info": {
   "codemirror_mode": {
    "name": "ipython",
    "version": 3
   },
   "file_extension": ".py",
   "mimetype": "text/x-python",
   "name": "python",
   "nbconvert_exporter": "python",
   "pygments_lexer": "ipython3",
   "version": "3.10.13"
  }
 },
 "nbformat": 4,
 "nbformat_minor": 2
}
