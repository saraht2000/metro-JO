{
 "cells": [
  {
   "cell_type": "code",
   "execution_count": 1,
   "metadata": {},
   "outputs": [
    {
     "name": "stdout",
     "output_type": "stream",
     "text": [
      "Requirement already satisfied: tabula-py in /usr/local/python/3.10.13/lib/python3.10/site-packages (2.9.0)\n",
      "Requirement already satisfied: pandas>=0.25.3 in /home/codespace/.local/lib/python3.10/site-packages (from tabula-py) (2.1.3)\n",
      "Requirement already satisfied: numpy in /home/codespace/.local/lib/python3.10/site-packages (from tabula-py) (1.26.2)\n",
      "Requirement already satisfied: distro in /usr/local/python/3.10.13/lib/python3.10/site-packages (from tabula-py) (1.9.0)\n",
      "Requirement already satisfied: python-dateutil>=2.8.2 in /home/codespace/.local/lib/python3.10/site-packages (from pandas>=0.25.3->tabula-py) (2.8.2)\n",
      "Requirement already satisfied: pytz>=2020.1 in /home/codespace/.local/lib/python3.10/site-packages (from pandas>=0.25.3->tabula-py) (2023.3.post1)\n",
      "Requirement already satisfied: tzdata>=2022.1 in /home/codespace/.local/lib/python3.10/site-packages (from pandas>=0.25.3->tabula-py) (2023.3)\n",
      "Requirement already satisfied: six>=1.5 in /home/codespace/.local/lib/python3.10/site-packages (from python-dateutil>=2.8.2->pandas>=0.25.3->tabula-py) (1.16.0)\n",
      "Note: you may need to restart the kernel to use updated packages.\n"
     ]
    }
   ],
   "source": [
    "%pip install tabula-py\n",
    "import pandas as pd\n",
    "import tabula\n",
    "import numpy as np\n",
    "from IPython.utils import io"
   ]
  },
  {
   "cell_type": "markdown",
   "metadata": {},
   "source": [
    "Importation du notebook Calendrier"
   ]
  },
  {
   "cell_type": "code",
   "execution_count": 2,
   "metadata": {},
   "outputs": [],
   "source": [
    "try:\n",
    "    with io.capture_output():\n",
    "        %run -i \"Calendrier.ipynb\"\n",
    "except Exception as e:\n",
    "    display(e)"
   ]
  },
  {
   "cell_type": "markdown",
   "metadata": {},
   "source": [
    "Importation du notebook Informations lieux des compétitions"
   ]
  },
  {
   "cell_type": "code",
   "execution_count": 3,
   "metadata": {},
   "outputs": [],
   "source": [
    "try:\n",
    "    with io.capture_output():\n",
    "        %run -i \"Informations lieux des compétitions.ipynb\"\n",
    "except Exception as e:\n",
    "    display(e)"
   ]
  },
  {
   "cell_type": "markdown",
   "metadata": {},
   "source": [
    "Importation du notebook Informations lignes métro"
   ]
  },
  {
   "cell_type": "code",
   "execution_count": 4,
   "metadata": {},
   "outputs": [],
   "source": [
    "try:\n",
    "    with io.capture_output():\n",
    "        %run -i \"Informations lignes métro.ipynb\"\n",
    "except Exception as e:\n",
    "    display(e)"
   ]
  },
  {
   "cell_type": "markdown",
   "metadata": {},
   "source": [
    "Programme calculant le nombre de personnes sans les JO"
   ]
  },
  {
   "cell_type": "code",
   "execution_count": 5,
   "metadata": {},
   "outputs": [
    {
     "name": "stdout",
     "output_type": "stream",
     "text": [
      "Affluence à 09:35 à la station bastille, sur la ligne 1 : 15\n",
      "Affluence sur la ligne 1 à 09:35: 434\n"
     ]
    }
   ],
   "source": [
    "def affluence_hors_jo(horaire, station, ligne):\n",
    "    line_table = tableaux[f'ligne numéro[{ligne}]']\n",
    "    hour, minute = map(int, horaire.split(':'))\n",
    "\n",
    "    plage_horaire = f\"{hour:02d}:00-{(hour + 1) % 24:02d}:00\"\n",
    "    if plage_horaire not in line_table.columns:\n",
    "        raise ValueError(f\"Plage horaire non trouvée dans le tableau: {plage_horaire}\")\n",
    "\n",
    "    affluence_horaire = line_table[line_table['Station'] == station][plage_horaire].iloc[0]\n",
    "\n",
    "    moyenne_ligne = line_table[line_table['Station'] == station]['moyenne_NB_VALD_hebdo_période_jo_2022_par_ligne_par_direction'].iloc[0]\n",
    "\n",
    "    return round(affluence_horaire), round(moyenne_ligne)\n",
    "\n",
    "horaire_info = \"09:35\"\n",
    "station_info = \"bastille\"\n",
    "ligne_info = \"1\"\n",
    "\n",
    "try:\n",
    "    affluence_horaire, affluence_ligne = affluence_hors_jo(horaire_info, station_info, ligne_info)\n",
    "    print(f\"Affluence à {horaire_info} à la station {station_info}, sur la ligne {ligne_info} : {affluence_horaire}\")\n",
    "    print(f\"Affluence sur la ligne {ligne_info} à {horaire_info}: {affluence_ligne}\")\n",
    "except ValueError as e:\n",
    "    print(e)\n"
   ]
  },
  {
   "cell_type": "markdown",
   "metadata": {},
   "source": [
    "Programme calculant le nombre de personnes supplémentaires avec les JO"
   ]
  },
  {
   "cell_type": "code",
   "execution_count": 12,
   "metadata": {},
   "outputs": [
    {
     "name": "stdout",
     "output_type": "stream",
     "text": [
      "Le nombre de personnes supplémentaires à la station bastille en raison des JO est 530.\n",
      "Le nombre de personnes supplémentaires sur la ligne 1 en raison des JO est 17000.\n"
     ]
    }
   ],
   "source": [
    "def calculer_personnes_supplementaires(date_horaire_entree, numero_ligne, station):\n",
    "\n",
    "    tableau_debut = pd.DataFrame()  \n",
    "    tableau_fin = pd.DataFrame()  \n",
    "\n",
    "    nb_station = 0 \n",
    "    nb_ligne = 0 \n",
    "\n",
    "    cle_tableau = f'ligne numéro[{numero_ligne}]'\n",
    "\n",
    "    # Extraire l'horaire de l'entrée utilisateur\n",
    "    heure_entree = date_horaire_entree[-5:]\n",
    "\n",
    "    # Déterminer la plage horaire à laquelle appartient l'horaire d'entrée\n",
    "    plage_horaire_entree = f\"{heure_entree.split(':')[0]}:00:00 - {(int(heure_entree.split(':')[0])+1)%24:02d}:00:00\"\n",
    "\n",
    "    # Construire la chaîne de date avec la plage horaire\n",
    "    date_plage_horaire = f\"{date_horaire_entree[:10]} {plage_horaire_entree}\"\n",
    "\n",
    "    # Vérifier si la chaîne date_plage_horaire se trouve dans new_horaires_début_df\n",
    "    if (date_plage_horaire in new_horaires_début_df.values) or (date_plage_horaire in new_horaires_fin_df.values): \n",
    "        # Afficher les éléments de la colonne \"Lieu\" correspondants à la condition dans new_horaires_début_df\n",
    "        lieux_correspondants_debut = new_horaires_début_df.loc[new_horaires_début_df.eq(date_plage_horaire).any(axis=1), 'Lieu']\n",
    "        # Afficher les éléments de la colonne \"Lieu\" correspondants à la condition dans new_horaires_fin_df\n",
    "        lieux_correspondants_fin = new_horaires_fin_df.loc[new_horaires_fin_df.eq(date_plage_horaire).any(axis=1), 'Lieu']\n",
    "        \n",
    "        lignes_correspondantes = []\n",
    "        \n",
    "        # Renvoyer les vecteurs de la colonne Ligne pour chaque élément de lieux_correspondants_debut\n",
    "        for lieu in lieux_correspondants_debut:\n",
    "            ligne_lieu = df[df['Lieu'] == lieu]  # Trouver la ligne correspondant au lieu\n",
    "            tableau_debut=pd.concat([tableau_debut, ligne_lieu], ignore_index=True)\n",
    "            lignes_lieu = ligne_lieu['Lignes']\n",
    "            lignes_correspondantes.extend(lignes_lieu.values)\n",
    "            \n",
    "        # Renvoyer les vecteurs de la colonne Ligne pour chaque élément de lieux_correspondants_fin\n",
    "        for lieu in lieux_correspondants_fin:\n",
    "            ligne_lieu = df[df['Lieu'] == lieu]  # Trouver la ligne correspondant au lieu\n",
    "            tableau_fin=pd.concat([tableau_fin, ligne_lieu], ignore_index=True)\n",
    "            lignes_lieu = ligne_lieu['Lignes']\n",
    "            lignes_correspondantes.extend(lignes_lieu.values)\n",
    "\n",
    "        numero_trouve = False\n",
    "\n",
    "        for sous_liste in lignes_correspondantes:\n",
    "            if numero_ligne in sous_liste:\n",
    "                numero_trouve = True\n",
    "                break  # Arrête la boucle une fois que le numéro est trouvé\n",
    "\n",
    "            # Vérifier si le numéro de ligne entré est présent dans les vecteurs des lignes correspondantes\n",
    "        if numero_trouve:\n",
    "            resultat_debut=0\n",
    "            resultat_fin=0\n",
    "            if not tableau_debut.empty :\n",
    "                tableau_debut = tableau_debut[tableau_debut['Lignes'].apply(lambda x: numero_ligne in x)]\n",
    "                resultat_debut = tableau_debut['Nombre de personnes par ligne'].sum()\n",
    "            if not tableau_fin.empty :\n",
    "                    tableau_fin = tableau_fin[tableau_fin['Lignes'].apply(lambda x: numero_ligne in x)]\n",
    "                    resultat_fin = tableau_fin['Nombre de personnes par ligne'].sum()\n",
    "            resultat=resultat_debut+resultat_fin\n",
    "            nb_ligne=round(resultat)\n",
    "\n",
    "            resultat_debut_2=0\n",
    "            resultat_fin_2=0\n",
    "\n",
    "            if not tableau_debut.empty:\n",
    "                tableau_provisoire =tableaux[cle_tableau]\n",
    "                ligne_provisoire = tableau_provisoire[tableau_provisoire['Station'].str.contains(station)]\n",
    "                valeur = ligne_provisoire['Part du trafic de la station par rapport à toute la ligne'].values[0]\n",
    "                tableau_debut['Pourcentage fréquentation'] = valeur\n",
    "                resultat_debut_2=valeur*resultat_debut\n",
    "            \n",
    "            if not tableau_fin.empty:\n",
    "                tableau_provisoire =tableaux[cle_tableau]\n",
    "                ligne_provisoire = tableau_provisoire[tableau_provisoire['Station'].str.contains(station)]\n",
    "                valeur = ligne_provisoire['Part du trafic de la station par rapport à toute la ligne'].values[0]\n",
    "                tableau_fin['Pourcentage fréquentation'] = valeur\n",
    "                resultat_fin_2=valeur*resultat_debut\n",
    "            \n",
    "            resultat2=resultat_debut_2+resultat_fin_2\n",
    "            nb_station=round(resultat2)\n",
    "            return nb_ligne, nb_station\n",
    "\n",
    "        else:\n",
    "            print(0)\n",
    "    else:\n",
    "        print(0)\n",
    "    \n",
    "    return nb_ligne, nb_station\n",
    "\n",
    "#exemple d'utilisation \n",
    "date_horaire_entree = '2024-07-28 09:20'\n",
    "numero_ligne = '1'\n",
    "station = 'bastille'\n",
    "\n",
    "nb_ligne, nb_station = calculer_personnes_supplementaires(date_horaire_entree, numero_ligne, station)\n",
    "\n",
    "phrase_station = f\"Le nombre de personnes supplémentaires à la station {station} en raison des JO est {nb_station}.\"\n",
    "phrase_ligne = f\"Le nombre de personnes supplémentaires sur la ligne {numero_ligne} en raison des JO est {nb_ligne}.\"\n",
    "\n",
    "print(phrase_station)\n",
    "print(phrase_ligne)"
   ]
  },
  {
   "cell_type": "markdown",
   "metadata": {},
   "source": [
    "Programme calculant le nombre total de personnes "
   ]
  },
  {
   "cell_type": "code",
   "execution_count": 17,
   "metadata": {},
   "outputs": [
    {
     "name": "stdout",
     "output_type": "stream",
     "text": [
      "Le nombre total estimé de personnes à la station bastille en raison des JO est 545.\n",
      "Le nombre total estimé de personnes sur la ligne 1 en raison des JO est 17434.\n"
     ]
    }
   ],
   "source": [
    "def info_trafic(date, heure, station, ligne):\n",
    "    try:\n",
    "        \n",
    "        nb_ligne, nb_station = calculer_personnes_supplementaires(f\"{date} {heure}\", ligne, station)\n",
    "        affluence_horaire, affluence_ligne = affluence_hors_jo(heure, station, ligne)\n",
    "\n",
    "        total_station = nb_station + affluence_horaire\n",
    "\n",
    "        total_ligne = nb_ligne + affluence_ligne\n",
    "\n",
    "        return total_station, total_ligne\n",
    "\n",
    "    except ValueError as e:\n",
    "        print(e)\n",
    "        return None, None  \n",
    "\n",
    "#exemple d'utilisation \n",
    "date_entree = '2024-07-28'\n",
    "heure = '09:20'\n",
    "numero_ligne = '1'\n",
    "station = 'bastille'\n",
    "\n",
    "total_station, total_ligne = info_trafic(date_entree, heure, station, numero_ligne)\n",
    "\n",
    "phrase_station = f\"Le nombre total estimé de personnes à la station {station} en raison des JO est {total_station}.\"\n",
    "phrase_ligne = f\"Le nombre total estimé de personnes sur la ligne {numero_ligne} en raison des JO est {total_ligne}.\"\n",
    "\n",
    "print(phrase_station)\n",
    "print(phrase_ligne)"
   ]
  },
  {
   "cell_type": "markdown",
   "metadata": {},
   "source": [
    "Programme qui compare l'affluence à l'heure indiquée à celle à l'heure suivante"
   ]
  },
  {
   "cell_type": "code",
   "execution_count": 18,
   "metadata": {},
   "outputs": [
    {
     "name": "stdout",
     "output_type": "stream",
     "text": [
      "Pas de panique, le trafic risque de se modérer prochainement. À 10:20, il y aura 196 personnes à la station bastille sur la ligne 1.\n"
     ]
    }
   ],
   "source": [
    "def comparer_affluences(date, heure, station, ligne):\n",
    "    try:\n",
    "        affluence_actuelle, _, = info_trafic(date, heure, station, ligne)\n",
    "\n",
    "        heure_suivante = (pd.to_datetime(f\"{date} {heure}\") + pd.Timedelta(hours=1)).strftime('%H:%M')\n",
    "        affluence_suivante, _,= info_trafic(date, heure_suivante, station, ligne)\n",
    "\n",
    "        if abs((affluence_suivante-affluence_actuelle)/affluence_actuelle*100)<10:\n",
    "            message = f\"L'état du trafic risque d'être le même prochainement. À {heure_suivante}, il y aura {affluence_suivante} personnes à la station {station} sur la ligne {ligne}.\" \n",
    "        elif affluence_suivante > affluence_actuelle:\n",
    "            message = f\"Attention, le trafic risque d'augmenter prochainement. À {heure_suivante}, il y aura {affluence_suivante} personnes à la station {station} sur la ligne {ligne}.\"\n",
    "        else:\n",
    "            message = f\"Pas de panique, le trafic risque de se modérer prochainement. À {heure_suivante}, il y aura {affluence_suivante} personnes à la station {station} sur la ligne {ligne}.\"\n",
    "\n",
    "        return message\n",
    "\n",
    "    except ValueError as e:\n",
    "        print(e)\n",
    "        return \"Erreur dans le calcul des affluences.\"  \n",
    "\n",
    "#exemple d'utilisation \n",
    "date_entree = '2024-07-28'\n",
    "heure = '09:20'\n",
    "numero_ligne = '1'\n",
    "station = 'bastille'\n",
    "\n",
    "print(comparer_affluences(date_entree, heure, station, numero_ligne))\n"
   ]
  },
  {
   "cell_type": "markdown",
   "metadata": {},
   "source": [
    "Programme final qui donne les informations sur le trafic"
   ]
  },
  {
   "cell_type": "code",
   "execution_count": 15,
   "metadata": {},
   "outputs": [
    {
     "name": "stdout",
     "output_type": "stream",
     "text": [
      "Nombre de personnes totales à la station bastille sur la ligne 1 à 09:35: 701\n",
      "Nombre de personnes totales sur la ligne 1 à 09:35: 22434\n",
      "Pas de panique, le trafic risque de se modérer prochainement. À 10:35, il y aura 196 personnes à la station bastille sur la ligne 1.\n"
     ]
    }
   ],
   "source": [
    "def info_trafic_complet(date, heure, station, ligne):\n",
    "    try:\n",
    "        \n",
    "        total_station, total_ligne = info_trafic(date, heure, station, ligne)\n",
    "\n",
    "        if total_station is not None and total_ligne is not None:\n",
    "            print(f\"Nombre de personnes totales à la station {station} sur la ligne {ligne} à {heure}: {total_station}\")\n",
    "            print(f\"Nombre de personnes totales sur la ligne {ligne} à {heure}: {total_ligne}\")\n",
    "\n",
    "            comparaison_message = comparer_affluences(date, heure, station, ligne)\n",
    "            print(comparaison_message)\n",
    "\n",
    "    except ValueError as e:\n",
    "        print(e)\n",
    "        print(\"Erreur dans le calcul des affluences.\")\n",
    "\n",
    "#exemple d'utilisation \n",
    "date_info = '2024-07-27'\n",
    "horaire_info = \"09:35\"\n",
    "station_info = \"bastille\"\n",
    "ligne_info = \"1\"\n",
    "info_trafic_complet(date_info, horaire_info, station_info, ligne_info)"
   ]
  }
 ],
 "metadata": {
  "kernelspec": {
   "display_name": "Python 3 (ipykernel)",
   "language": "python",
   "name": "python3"
  },
  "language_info": {
   "codemirror_mode": {
    "name": "ipython",
    "version": 3
   },
   "file_extension": ".py",
   "mimetype": "text/x-python",
   "name": "python",
   "nbconvert_exporter": "python",
   "pygments_lexer": "ipython3",
   "version": "3.10.13"
  }
 },
 "nbformat": 4,
 "nbformat_minor": 2
}
